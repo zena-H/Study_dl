{
  "nbformat": 4,
  "nbformat_minor": 0,
  "metadata": {
    "colab": {
      "name": "18_시퀀스배열로다루는순환신경망(RNN).ipynb",
      "provenance": [],
      "collapsed_sections": [],
      "authorship_tag": "ABX9TyNfwj2XpabOHyhQzbt4dau8"
    },
    "kernelspec": {
      "name": "python3",
      "display_name": "Python 3"
    },
    "language_info": {
      "name": "python"
    },
    "accelerator": "GPU"
  },
  "cells": [
    {
      "cell_type": "markdown",
      "source": [
        "순환 신경망(RNN, Recurrent Nural Network) : 이전과 다르게 문장에서는 과거 입력데이터와 나중에 입력한 데이터의 관계를 고려해야하는 문제를 해결하기 위해 고안됨\n",
        "\n",
        "RNN의 결과를 더욱 개선하기 위한 방법들이 고안되었고, 현재는 LSTM과 함께 사용하는 방법이 가장 많이 쓰임"
      ],
      "metadata": {
        "id": "4frn_NqDLMe0"
      }
    },
    {
      "cell_type": "markdown",
      "source": [
        "##### LSTM을 이용한 로이터 뉴스 카테고리 분류하기"
      ],
      "metadata": {
        "id": "xeURbMzMLMbU"
      }
    },
    {
      "cell_type": "code",
      "execution_count": 3,
      "metadata": {
        "colab": {
          "base_uri": "https://localhost:8080/"
        },
        "id": "Vnvcv-QGLBmA",
        "outputId": "7d8c2e8d-4f21-4386-d2ee-01be0b99842c"
      },
      "outputs": [
        {
          "output_type": "stream",
          "name": "stdout",
          "text": [
            "Downloading data from https://storage.googleapis.com/tensorflow/tf-keras-datasets/reuters.npz\n",
            "2113536/2110848 [==============================] - 0s 0us/step\n",
            "2121728/2110848 [==============================] - 0s 0us/step\n"
          ]
        }
      ],
      "source": [
        "# 로이터 뉴스 데이터셋 불러오기\n",
        "from tensorflow.keras.datasets import reuters\n",
        "\n",
        "(X_train, y_train), (X_test, y_test) = reuters.load_data(num_words = 1000, test_split = 0.2)"
      ]
    },
    {
      "cell_type": "code",
      "source": [
        "import numpy as np\n",
        "\n",
        "# 데이터 확인 후 출력\n",
        "category = np.max(y_train) + 1\n",
        "print(category , '카테고리')\n",
        "print(len(X_train), '학습용 뉴스 기사')\n",
        "print(len(X_test), '테스트용 뉴스 기사')\n",
        "print(X_train[0])"
      ],
      "metadata": {
        "colab": {
          "base_uri": "https://localhost:8080/"
        },
        "id": "TPT0oxxuMEwh",
        "outputId": "8e8b50c8-7841-4d55-c8dc-bf4d01cee012"
      },
      "execution_count": 4,
      "outputs": [
        {
          "output_type": "stream",
          "name": "stdout",
          "text": [
            "46 카테고리\n",
            "8982 학습용 뉴스 기사\n",
            "2246 테스트용 뉴스 기사\n",
            "[1, 2, 2, 8, 43, 10, 447, 5, 25, 207, 270, 5, 2, 111, 16, 369, 186, 90, 67, 7, 89, 5, 19, 102, 6, 19, 124, 15, 90, 67, 84, 22, 482, 26, 7, 48, 4, 49, 8, 864, 39, 209, 154, 6, 151, 6, 83, 11, 15, 22, 155, 11, 15, 7, 48, 9, 2, 2, 504, 6, 258, 6, 272, 11, 15, 22, 134, 44, 11, 15, 16, 8, 197, 2, 90, 67, 52, 29, 209, 30, 32, 132, 6, 109, 15, 17, 12]\n"
          ]
        }
      ]
    },
    {
      "cell_type": "code",
      "source": [
        "from tensorflow.keras.preprocessing import sequence\n",
        "\n",
        "# 데이터 전처리\n",
        "x_train = sequence.pad_sequences(X_train, maxlen = 100)\n",
        "x_test = sequence.pad_sequences(X_test, maxlen = 100)"
      ],
      "metadata": {
        "id": "V_DO8y1bMcCW"
      },
      "execution_count": 5,
      "outputs": []
    },
    {
      "cell_type": "code",
      "source": [
        "from tensorflow.keras.utils import to_categorical\n",
        "\n",
        "# 데이터 전처리\n",
        "y_train = to_categorical(y_train)\n",
        "y_test = to_categorical(y_test)"
      ],
      "metadata": {
        "id": "AeF4isGzMtVs"
      },
      "execution_count": 6,
      "outputs": []
    },
    {
      "cell_type": "code",
      "source": [
        "from tensorflow.keras.models import Sequential\n",
        "from tensorflow.keras.layers import Embedding, LSTM, Dense\n",
        "\n",
        "# 모델의 설정\n",
        "model = Sequential()\n",
        "model.add(Embedding(1000, 100))\n",
        "model.add(LSTM(100, activation = 'tanh'))\n",
        "model.add(Dense(46, activation = 'softmax'))"
      ],
      "metadata": {
        "id": "zROZhpTPM3KE"
      },
      "execution_count": 7,
      "outputs": []
    },
    {
      "cell_type": "code",
      "source": [
        "# 모델의 컴파일\n",
        "model.compile(loss = 'categorical_crossentropy',\n",
        "              optimizer = 'adam',\n",
        "              metrics = ['acc'])\n",
        "\n",
        "# 모델의 실행\n",
        "history = model.fit(x_train, y_train,\n",
        "                    validation_data = (x_test, y_test),\n",
        "                    epochs = 20, \n",
        "                    batch_size = 100)\n",
        "\n",
        "# 테스트 정확도 출력\n",
        "print(f'\\nTest Accuracy {model.evaluate(x_test, y_test)[1] :.4f}')"
      ],
      "metadata": {
        "colab": {
          "base_uri": "https://localhost:8080/"
        },
        "id": "5Pi-0jJgNM5i",
        "outputId": "740127cb-fc5b-4229-b635-84c6ebd54906"
      },
      "execution_count": 8,
      "outputs": [
        {
          "output_type": "stream",
          "name": "stdout",
          "text": [
            "Epoch 1/20\n",
            "90/90 [==============================] - 12s 49ms/step - loss: 2.6012 - acc: 0.3447 - val_loss: 2.2794 - val_acc: 0.4889\n",
            "Epoch 2/20\n",
            "90/90 [==============================] - 3s 37ms/step - loss: 2.0843 - acc: 0.4795 - val_loss: 2.0149 - val_acc: 0.5004\n",
            "Epoch 3/20\n",
            "90/90 [==============================] - 3s 36ms/step - loss: 1.9485 - acc: 0.4928 - val_loss: 1.8806 - val_acc: 0.5343\n",
            "Epoch 4/20\n",
            "90/90 [==============================] - 3s 34ms/step - loss: 1.8900 - acc: 0.5003 - val_loss: 1.8483 - val_acc: 0.5454\n",
            "Epoch 5/20\n",
            "90/90 [==============================] - 3s 33ms/step - loss: 1.7581 - acc: 0.5475 - val_loss: 1.7505 - val_acc: 0.5597\n",
            "Epoch 6/20\n",
            "90/90 [==============================] - 3s 32ms/step - loss: 1.6678 - acc: 0.5744 - val_loss: 1.6672 - val_acc: 0.5833\n",
            "Epoch 7/20\n",
            "90/90 [==============================] - 3s 32ms/step - loss: 1.5847 - acc: 0.6026 - val_loss: 1.6175 - val_acc: 0.6055\n",
            "Epoch 8/20\n",
            "90/90 [==============================] - 3s 31ms/step - loss: 1.4817 - acc: 0.6263 - val_loss: 1.5848 - val_acc: 0.6082\n",
            "Epoch 9/20\n",
            "90/90 [==============================] - 3s 31ms/step - loss: 1.3977 - acc: 0.6445 - val_loss: 1.4618 - val_acc: 0.6354\n",
            "Epoch 10/20\n",
            "90/90 [==============================] - 3s 30ms/step - loss: 1.3192 - acc: 0.6687 - val_loss: 1.4264 - val_acc: 0.6429\n",
            "Epoch 11/20\n",
            "90/90 [==============================] - 3s 30ms/step - loss: 1.2345 - acc: 0.6938 - val_loss: 1.3704 - val_acc: 0.6625\n",
            "Epoch 12/20\n",
            "90/90 [==============================] - 3s 30ms/step - loss: 1.2037 - acc: 0.7001 - val_loss: 1.3464 - val_acc: 0.6585\n",
            "Epoch 13/20\n",
            "90/90 [==============================] - 3s 30ms/step - loss: 1.1291 - acc: 0.7200 - val_loss: 1.2925 - val_acc: 0.6803\n",
            "Epoch 14/20\n",
            "90/90 [==============================] - 3s 31ms/step - loss: 1.0768 - acc: 0.7281 - val_loss: 1.2719 - val_acc: 0.6857\n",
            "Epoch 15/20\n",
            "90/90 [==============================] - 3s 30ms/step - loss: 1.0386 - acc: 0.7377 - val_loss: 1.2728 - val_acc: 0.6874\n",
            "Epoch 16/20\n",
            "90/90 [==============================] - 3s 30ms/step - loss: 0.9911 - acc: 0.7491 - val_loss: 1.2521 - val_acc: 0.6906\n",
            "Epoch 17/20\n",
            "90/90 [==============================] - 3s 31ms/step - loss: 0.9527 - acc: 0.7594 - val_loss: 1.2437 - val_acc: 0.6928\n",
            "Epoch 18/20\n",
            "90/90 [==============================] - 3s 30ms/step - loss: 0.9184 - acc: 0.7691 - val_loss: 1.2419 - val_acc: 0.7075\n",
            "Epoch 19/20\n",
            "90/90 [==============================] - 3s 29ms/step - loss: 0.8684 - acc: 0.7850 - val_loss: 1.2408 - val_acc: 0.7004\n",
            "Epoch 20/20\n",
            "90/90 [==============================] - 3s 29ms/step - loss: 0.8522 - acc: 0.7868 - val_loss: 1.2181 - val_acc: 0.7088\n",
            "71/71 [==============================] - 1s 10ms/step - loss: 1.2181 - acc: 0.7088\n",
            "\n",
            "Test Accuracy 0.7088\n"
          ]
        }
      ]
    },
    {
      "cell_type": "markdown",
      "source": [
        "##### LSTM과 CNN의 조합을 이용한 영화 리뷰 분류하기(IMDB)"
      ],
      "metadata": {
        "id": "HCUFBrpuNvh6"
      }
    },
    {
      "cell_type": "code",
      "source": [
        "from tensorflow.keras.datasets import imdb\n",
        "\n",
        "# 학습셋과 테스트셋 지정하기\n",
        "(x_train, y_train), (x_test, y_test) = imdb.load_data(num_words = 5000)\n",
        "\n",
        "# 데이터 전처리\n",
        "x_train = sequence.pad_sequences(x_train, maxlen = 100)\n",
        "x_test = sequence.pad_sequences(x_test, maxlen = 100)"
      ],
      "metadata": {
        "colab": {
          "base_uri": "https://localhost:8080/"
        },
        "id": "GaaWY55jN01F",
        "outputId": "1551034c-92f0-408d-b761-a1ebeab4d948"
      },
      "execution_count": 9,
      "outputs": [
        {
          "output_type": "stream",
          "name": "stdout",
          "text": [
            "Downloading data from https://storage.googleapis.com/tensorflow/tf-keras-datasets/imdb.npz\n",
            "17465344/17464789 [==============================] - 0s 0us/step\n",
            "17473536/17464789 [==============================] - 0s 0us/step\n"
          ]
        }
      ]
    },
    {
      "cell_type": "code",
      "source": [
        "from tensorflow.keras.layers import Dropout, Conv1D, MaxPooling1D, Activation\n",
        "\n",
        "# 모델의 설정\n",
        "model = Sequential()\n",
        "model.add(Embedding(5000, 100))\n",
        "model.add(Dropout(0.5))\n",
        "model.add(Conv1D(64, 5, padding = 'valid', activation = 'relu', strides = 1))\n",
        "model.add(MaxPooling1D(pool_size = 4))\n",
        "model.add(LSTM(55))\n",
        "model.add(Dense(1))\n",
        "model.add(Activation('sigmoid'))\n",
        "\n",
        "model.summary()"
      ],
      "metadata": {
        "colab": {
          "base_uri": "https://localhost:8080/"
        },
        "id": "ghiyD8t8OM19",
        "outputId": "d3532101-9d7a-4d7d-dc12-113d38db543e"
      },
      "execution_count": 10,
      "outputs": [
        {
          "output_type": "stream",
          "name": "stdout",
          "text": [
            "Model: \"sequential_1\"\n",
            "_________________________________________________________________\n",
            " Layer (type)                Output Shape              Param #   \n",
            "=================================================================\n",
            " embedding_1 (Embedding)     (None, None, 100)         500000    \n",
            "                                                                 \n",
            " dropout (Dropout)           (None, None, 100)         0         \n",
            "                                                                 \n",
            " conv1d (Conv1D)             (None, None, 64)          32064     \n",
            "                                                                 \n",
            " max_pooling1d (MaxPooling1D  (None, None, 64)         0         \n",
            " )                                                               \n",
            "                                                                 \n",
            " lstm_1 (LSTM)               (None, 55)                26400     \n",
            "                                                                 \n",
            " dense_1 (Dense)             (None, 1)                 56        \n",
            "                                                                 \n",
            " activation (Activation)     (None, 1)                 0         \n",
            "                                                                 \n",
            "=================================================================\n",
            "Total params: 558,520\n",
            "Trainable params: 558,520\n",
            "Non-trainable params: 0\n",
            "_________________________________________________________________\n"
          ]
        }
      ]
    },
    {
      "cell_type": "code",
      "source": [
        "# 모델의 컴파일 \n",
        "model.compile(loss = 'binary_crossentropy',\n",
        "              optimizer = 'adam',\n",
        "              metrics = ['acc'])\n",
        "\n",
        "# 모델의 실행\n",
        "history = model.fit(x_train, y_train,\n",
        "                    validation_data = (x_test, y_test),\n",
        "                    epochs = 5,\n",
        "                    batch_size = 100)\n",
        "\n",
        "# 테스트 정확도 출력\n",
        "print(f'\\nTest Accuracy : {model.evaluate(x_test, y_test)[1] : .4f}')"
      ],
      "metadata": {
        "colab": {
          "base_uri": "https://localhost:8080/"
        },
        "id": "ZEw_GUuwOzr4",
        "outputId": "edfa5c31-fcfe-4359-e8d7-937d5317b7a3"
      },
      "execution_count": 11,
      "outputs": [
        {
          "output_type": "stream",
          "name": "stdout",
          "text": [
            "Epoch 1/5\n",
            "250/250 [==============================] - 15s 24ms/step - loss: 0.4423 - acc: 0.7817 - val_loss: 0.3356 - val_acc: 0.8526\n",
            "Epoch 2/5\n",
            "250/250 [==============================] - 7s 28ms/step - loss: 0.2920 - acc: 0.8751 - val_loss: 0.3279 - val_acc: 0.8562\n",
            "Epoch 3/5\n",
            "250/250 [==============================] - 6s 24ms/step - loss: 0.2535 - acc: 0.8965 - val_loss: 0.3337 - val_acc: 0.8556\n",
            "Epoch 4/5\n",
            "250/250 [==============================] - 6s 24ms/step - loss: 0.2166 - acc: 0.9144 - val_loss: 0.3386 - val_acc: 0.8542\n",
            "Epoch 5/5\n",
            "250/250 [==============================] - 6s 24ms/step - loss: 0.1848 - acc: 0.9300 - val_loss: 0.3578 - val_acc: 0.8522\n",
            "782/782 [==============================] - 7s 8ms/step - loss: 0.3578 - acc: 0.8522\n",
            "\n",
            "Test Accuracy :  0.8522\n"
          ]
        }
      ]
    },
    {
      "cell_type": "code",
      "source": [
        "import matplotlib.pyplot as  plt\n",
        "\n",
        "# 테스트셋의 오차\n",
        "y_vloss = history.history['val_loss']\n",
        "\n",
        "# 학습셋의 오차\n",
        "y_loss = history.history['loss']\n",
        "\n",
        "# 그래프로 표현\n",
        "x_len = np.arange(len(y_loss))\n",
        "\n",
        "plt.plot(x_len, y_vloss, marker = '.', c = 'red', label = 'Testset_loss')\n",
        "plt.plot(x_len, y_loss, marker = '.', c = 'blue', label = 'Trainset_loss')\n",
        "\n",
        "# 그래프에 그리드를 주고 레이블을 표시\n",
        "plt.legend(loc = 'upper right')\n",
        "plt.grid()\n",
        "plt.xlabel('epoch')\n",
        "plt.ylabel('loss')\n",
        "plt.show()"
      ],
      "metadata": {
        "colab": {
          "base_uri": "https://localhost:8080/",
          "height": 278
        },
        "id": "BZ0yANp6PQjt",
        "outputId": "05c066aa-3b1f-47c1-c015-61aa3b8d6225"
      },
      "execution_count": 13,
      "outputs": [
        {
          "output_type": "display_data",
          "data": {
            "image/png": "[encoded data removed]",
            "text/plain": [
              "<Figure size 432x288 with 1 Axes>"
            ]
          },
          "metadata": {
            "needs_background": "light"
          }
        }
      ]
    }
  ]
}