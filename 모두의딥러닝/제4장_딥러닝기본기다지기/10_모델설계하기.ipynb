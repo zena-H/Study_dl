{
  "nbformat": 4,
  "nbformat_minor": 0,
  "metadata": {
    "colab": {
      "name": "10_모델설계하기.ipynb",
      "provenance": [],
      "collapsed_sections": [],
      "mount_file_id": "1Sk9iYbOWQPwxJmBB340YkmahEtx_NaKq",
      "authorship_tag": "ABX9TyOBrrp55NFXBJeJAH6hBAuG"
    },
    "kernelspec": {
      "name": "python3",
      "display_name": "Python 3"
    },
    "language_info": {
      "name": "python"
    },
    "accelerator": "GPU"
  },
  "cells": [
    {
      "cell_type": "markdown",
      "source": [
        "##### 모델의 정의\n",
        "폐암 수술 환자의 생존율 예측하기 코드 "
      ],
      "metadata": {
        "id": "qZ11CUXBMZZ6"
      }
    },
    {
      "cell_type": "code",
      "source": [
        "from tensorflow.keras.models import Sequential\n",
        "from tensorflow.keras.layers import Dense\n",
        "\n",
        "# 필요한 라이브러리 불러옴\n",
        "import numpy as np\n",
        "import tensorflow as tf\n",
        "\n",
        "# 실행할 때마다 같은 결과를 출력하기 위해 설정하는 부분\n",
        "np.random.seed(3)\n",
        "tf.random.set_seed(3)\n",
        "\n",
        "# 준비된 수술 환자 데이터를 불러옴\n",
        "Data_set = np.loadtxt('dataset/ThoraricSurgery.csv', delimiter = ',')\n",
        "\n",
        "# 환자의 기록과 수술 결과를 X와 Y로 구분하여 저장\n",
        "X = Data_set[:, 0:17]\n",
        "Y = Data_set[:, 17]\n",
        "\n",
        "# 딥러닝 구조를 결정 (모델을 설정하고 실행하는 부분)\n",
        "model = Sequential()\n",
        "model.add(Dense(30, input_dim = 17, activation = 'relu'))\n",
        "model.add(Dense(1, activation = 'sigmoid'))\n",
        "\n",
        "# 딥러닝 실행\n",
        "model.compile(loss = 'mean_squared_error',\n",
        "              optimizer = 'adam',\n",
        "              metrics = ['accuracy'])\n",
        "model.fit(X, Y,\n",
        "          epochs = 100,\n",
        "          batch_size = 10)"
      ],
      "metadata": {
        "colab": {
          "base_uri": "https://localhost:8080/"
        },
        "id": "CWJ4n_h2MsXu",
        "outputId": "fa24b76e-6996-4d55-dd70-54d23b6d831d"
      },
      "execution_count": 5,
      "outputs": [
        {
          "output_type": "stream",
          "name": "stdout",
          "text": [
            "Epoch 1/100\n",
            "47/47 [==============================] - 2s 3ms/step - loss: 0.1485 - accuracy: 0.8426\n",
            "Epoch 2/100\n",
            "47/47 [==============================] - 0s 3ms/step - loss: 0.1402 - accuracy: 0.8511\n",
            "Epoch 3/100\n",
            "47/47 [==============================] - 0s 3ms/step - loss: 0.1433 - accuracy: 0.8489\n",
            "Epoch 4/100\n",
            "47/47 [==============================] - 0s 3ms/step - loss: 0.1395 - accuracy: 0.8511\n",
            "Epoch 5/100\n",
            "47/47 [==============================] - 0s 3ms/step - loss: 0.1386 - accuracy: 0.8468\n",
            "Epoch 6/100\n",
            "47/47 [==============================] - 0s 3ms/step - loss: 0.1407 - accuracy: 0.8511\n",
            "Epoch 7/100\n",
            "47/47 [==============================] - 0s 3ms/step - loss: 0.1336 - accuracy: 0.8489\n",
            "Epoch 8/100\n",
            "47/47 [==============================] - 0s 3ms/step - loss: 0.1384 - accuracy: 0.8511\n",
            "Epoch 9/100\n",
            "47/47 [==============================] - 0s 3ms/step - loss: 0.1374 - accuracy: 0.8532\n",
            "Epoch 10/100\n",
            "47/47 [==============================] - 0s 3ms/step - loss: 0.1378 - accuracy: 0.8468\n",
            "Epoch 11/100\n",
            "47/47 [==============================] - 0s 3ms/step - loss: 0.1353 - accuracy: 0.8511\n",
            "Epoch 12/100\n",
            "47/47 [==============================] - 0s 3ms/step - loss: 0.1387 - accuracy: 0.8532\n",
            "Epoch 13/100\n",
            "47/47 [==============================] - 0s 3ms/step - loss: 0.1423 - accuracy: 0.8489\n",
            "Epoch 14/100\n",
            "47/47 [==============================] - 0s 3ms/step - loss: 0.1421 - accuracy: 0.8447\n",
            "Epoch 15/100\n",
            "47/47 [==============================] - 0s 3ms/step - loss: 0.1285 - accuracy: 0.8511\n",
            "Epoch 16/100\n",
            "47/47 [==============================] - 0s 3ms/step - loss: 0.1343 - accuracy: 0.8468\n",
            "Epoch 17/100\n",
            "47/47 [==============================] - 0s 3ms/step - loss: 0.1449 - accuracy: 0.8511\n",
            "Epoch 18/100\n",
            "47/47 [==============================] - 0s 3ms/step - loss: 0.1399 - accuracy: 0.8468\n",
            "Epoch 19/100\n",
            "47/47 [==============================] - 0s 3ms/step - loss: 0.1353 - accuracy: 0.8511\n",
            "Epoch 20/100\n",
            "47/47 [==============================] - 0s 3ms/step - loss: 0.1404 - accuracy: 0.8511\n",
            "Epoch 21/100\n",
            "47/47 [==============================] - 0s 3ms/step - loss: 0.1352 - accuracy: 0.8489\n",
            "Epoch 22/100\n",
            "47/47 [==============================] - 0s 3ms/step - loss: 0.1340 - accuracy: 0.8489\n",
            "Epoch 23/100\n",
            "47/47 [==============================] - 0s 3ms/step - loss: 0.1364 - accuracy: 0.8489\n",
            "Epoch 24/100\n",
            "47/47 [==============================] - 0s 3ms/step - loss: 0.1301 - accuracy: 0.8511\n",
            "Epoch 25/100\n",
            "47/47 [==============================] - 0s 3ms/step - loss: 0.1346 - accuracy: 0.8489\n",
            "Epoch 26/100\n",
            "47/47 [==============================] - 0s 3ms/step - loss: 0.1402 - accuracy: 0.8489\n",
            "Epoch 27/100\n",
            "47/47 [==============================] - 0s 3ms/step - loss: 0.1332 - accuracy: 0.8447\n",
            "Epoch 28/100\n",
            "47/47 [==============================] - 0s 3ms/step - loss: 0.1388 - accuracy: 0.8511\n",
            "Epoch 29/100\n",
            "47/47 [==============================] - 0s 3ms/step - loss: 0.1295 - accuracy: 0.8489\n",
            "Epoch 30/100\n",
            "47/47 [==============================] - 0s 3ms/step - loss: 0.1272 - accuracy: 0.8511\n",
            "Epoch 31/100\n",
            "47/47 [==============================] - 0s 3ms/step - loss: 0.1434 - accuracy: 0.8489\n",
            "Epoch 32/100\n",
            "47/47 [==============================] - 0s 3ms/step - loss: 0.1378 - accuracy: 0.8532\n",
            "Epoch 33/100\n",
            "47/47 [==============================] - 0s 3ms/step - loss: 0.1312 - accuracy: 0.8574\n",
            "Epoch 34/100\n",
            "47/47 [==============================] - 0s 3ms/step - loss: 0.1380 - accuracy: 0.8511\n",
            "Epoch 35/100\n",
            "47/47 [==============================] - 0s 3ms/step - loss: 0.1412 - accuracy: 0.8489\n",
            "Epoch 36/100\n",
            "47/47 [==============================] - 0s 3ms/step - loss: 0.1386 - accuracy: 0.8489\n",
            "Epoch 37/100\n",
            "47/47 [==============================] - 0s 3ms/step - loss: 0.1342 - accuracy: 0.8489\n",
            "Epoch 38/100\n",
            "47/47 [==============================] - 0s 3ms/step - loss: 0.1355 - accuracy: 0.8447\n",
            "Epoch 39/100\n",
            "47/47 [==============================] - 0s 3ms/step - loss: 0.1387 - accuracy: 0.8511\n",
            "Epoch 40/100\n",
            "47/47 [==============================] - 0s 3ms/step - loss: 0.1365 - accuracy: 0.8511\n",
            "Epoch 41/100\n",
            "47/47 [==============================] - 0s 3ms/step - loss: 0.1279 - accuracy: 0.8511\n",
            "Epoch 42/100\n",
            "47/47 [==============================] - 0s 3ms/step - loss: 0.1418 - accuracy: 0.8511\n",
            "Epoch 43/100\n",
            "47/47 [==============================] - 0s 3ms/step - loss: 0.1401 - accuracy: 0.8489\n",
            "Epoch 44/100\n",
            "47/47 [==============================] - 0s 3ms/step - loss: 0.1386 - accuracy: 0.8511\n",
            "Epoch 45/100\n",
            "47/47 [==============================] - 0s 3ms/step - loss: 0.1387 - accuracy: 0.8511\n",
            "Epoch 46/100\n",
            "47/47 [==============================] - 0s 3ms/step - loss: 0.1376 - accuracy: 0.8489\n",
            "Epoch 47/100\n",
            "47/47 [==============================] - 0s 3ms/step - loss: 0.1314 - accuracy: 0.8532\n",
            "Epoch 48/100\n",
            "47/47 [==============================] - 0s 3ms/step - loss: 0.1253 - accuracy: 0.8447\n",
            "Epoch 49/100\n",
            "47/47 [==============================] - 0s 3ms/step - loss: 0.1310 - accuracy: 0.8511\n",
            "Epoch 50/100\n",
            "47/47 [==============================] - 0s 3ms/step - loss: 0.1247 - accuracy: 0.8447\n",
            "Epoch 51/100\n",
            "47/47 [==============================] - 0s 3ms/step - loss: 0.1249 - accuracy: 0.8532\n",
            "Epoch 52/100\n",
            "47/47 [==============================] - 0s 3ms/step - loss: 0.1270 - accuracy: 0.8532\n",
            "Epoch 53/100\n",
            "47/47 [==============================] - 0s 6ms/step - loss: 0.1294 - accuracy: 0.8532\n",
            "Epoch 54/100\n",
            "47/47 [==============================] - 0s 6ms/step - loss: 0.1242 - accuracy: 0.8596\n",
            "Epoch 55/100\n",
            "47/47 [==============================] - 0s 5ms/step - loss: 0.1245 - accuracy: 0.8574\n",
            "Epoch 56/100\n",
            "47/47 [==============================] - 0s 5ms/step - loss: 0.1296 - accuracy: 0.8468\n",
            "Epoch 57/100\n",
            "47/47 [==============================] - 0s 5ms/step - loss: 0.1246 - accuracy: 0.8532\n",
            "Epoch 58/100\n",
            "47/47 [==============================] - 0s 5ms/step - loss: 0.1372 - accuracy: 0.8447\n",
            "Epoch 59/100\n",
            "47/47 [==============================] - 0s 5ms/step - loss: 0.1396 - accuracy: 0.8511\n",
            "Epoch 60/100\n",
            "47/47 [==============================] - 0s 5ms/step - loss: 0.1339 - accuracy: 0.8553\n",
            "Epoch 61/100\n",
            "47/47 [==============================] - 0s 5ms/step - loss: 0.1295 - accuracy: 0.8553\n",
            "Epoch 62/100\n",
            "47/47 [==============================] - 0s 5ms/step - loss: 0.1305 - accuracy: 0.8511\n",
            "Epoch 63/100\n",
            "47/47 [==============================] - 0s 5ms/step - loss: 0.1344 - accuracy: 0.8489\n",
            "Epoch 64/100\n",
            "47/47 [==============================] - 0s 5ms/step - loss: 0.1273 - accuracy: 0.8532\n",
            "Epoch 65/100\n",
            "47/47 [==============================] - 0s 5ms/step - loss: 0.1210 - accuracy: 0.8574\n",
            "Epoch 66/100\n",
            "47/47 [==============================] - 0s 4ms/step - loss: 0.1288 - accuracy: 0.8468\n",
            "Epoch 67/100\n",
            "47/47 [==============================] - 0s 5ms/step - loss: 0.1216 - accuracy: 0.8532\n",
            "Epoch 68/100\n",
            "47/47 [==============================] - 0s 4ms/step - loss: 0.1298 - accuracy: 0.8574\n",
            "Epoch 69/100\n",
            "47/47 [==============================] - 0s 4ms/step - loss: 0.1281 - accuracy: 0.8511\n",
            "Epoch 70/100\n",
            "47/47 [==============================] - 0s 4ms/step - loss: 0.1299 - accuracy: 0.8532\n",
            "Epoch 71/100\n",
            "47/47 [==============================] - 0s 5ms/step - loss: 0.1249 - accuracy: 0.8447\n",
            "Epoch 72/100\n",
            "47/47 [==============================] - 0s 5ms/step - loss: 0.1378 - accuracy: 0.8553\n",
            "Epoch 73/100\n",
            "47/47 [==============================] - 0s 4ms/step - loss: 0.1310 - accuracy: 0.8532\n",
            "Epoch 74/100\n",
            "47/47 [==============================] - 0s 4ms/step - loss: 0.1263 - accuracy: 0.8553\n",
            "Epoch 75/100\n",
            "47/47 [==============================] - 0s 4ms/step - loss: 0.1198 - accuracy: 0.8617\n",
            "Epoch 76/100\n",
            "47/47 [==============================] - 0s 5ms/step - loss: 0.1290 - accuracy: 0.8574\n",
            "Epoch 77/100\n",
            "47/47 [==============================] - 0s 4ms/step - loss: 0.1335 - accuracy: 0.8511\n",
            "Epoch 78/100\n",
            "47/47 [==============================] - 0s 4ms/step - loss: 0.1239 - accuracy: 0.8532\n",
            "Epoch 79/100\n",
            "47/47 [==============================] - 0s 3ms/step - loss: 0.1213 - accuracy: 0.8532\n",
            "Epoch 80/100\n",
            "47/47 [==============================] - 0s 3ms/step - loss: 0.1211 - accuracy: 0.8511\n",
            "Epoch 81/100\n",
            "47/47 [==============================] - 0s 3ms/step - loss: 0.1269 - accuracy: 0.8596\n",
            "Epoch 82/100\n",
            "47/47 [==============================] - 0s 3ms/step - loss: 0.1259 - accuracy: 0.8553\n",
            "Epoch 83/100\n",
            "47/47 [==============================] - 0s 3ms/step - loss: 0.1242 - accuracy: 0.8574\n",
            "Epoch 84/100\n",
            "47/47 [==============================] - 0s 3ms/step - loss: 0.1300 - accuracy: 0.8404\n",
            "Epoch 85/100\n",
            "47/47 [==============================] - 0s 3ms/step - loss: 0.1364 - accuracy: 0.8532\n",
            "Epoch 86/100\n",
            "47/47 [==============================] - 0s 3ms/step - loss: 0.1328 - accuracy: 0.8574\n",
            "Epoch 87/100\n",
            "47/47 [==============================] - 0s 3ms/step - loss: 0.1197 - accuracy: 0.8617\n",
            "Epoch 88/100\n",
            "47/47 [==============================] - 0s 3ms/step - loss: 0.1195 - accuracy: 0.8532\n",
            "Epoch 89/100\n",
            "47/47 [==============================] - 0s 3ms/step - loss: 0.1239 - accuracy: 0.8574\n",
            "Epoch 90/100\n",
            "47/47 [==============================] - 0s 3ms/step - loss: 0.1318 - accuracy: 0.8532\n",
            "Epoch 91/100\n",
            "47/47 [==============================] - 0s 3ms/step - loss: 0.1350 - accuracy: 0.8511\n",
            "Epoch 92/100\n",
            "47/47 [==============================] - 0s 3ms/step - loss: 0.1254 - accuracy: 0.8596\n",
            "Epoch 93/100\n",
            "47/47 [==============================] - 0s 3ms/step - loss: 0.1184 - accuracy: 0.8532\n",
            "Epoch 94/100\n",
            "47/47 [==============================] - 0s 3ms/step - loss: 0.1228 - accuracy: 0.8553\n",
            "Epoch 95/100\n",
            "47/47 [==============================] - 0s 3ms/step - loss: 0.1211 - accuracy: 0.8596\n",
            "Epoch 96/100\n",
            "47/47 [==============================] - 0s 3ms/step - loss: 0.1306 - accuracy: 0.8532\n",
            "Epoch 97/100\n",
            "47/47 [==============================] - 0s 4ms/step - loss: 0.1235 - accuracy: 0.8596\n",
            "Epoch 98/100\n",
            "47/47 [==============================] - 0s 5ms/step - loss: 0.1312 - accuracy: 0.8468\n",
            "Epoch 99/100\n",
            "47/47 [==============================] - 0s 4ms/step - loss: 0.1340 - accuracy: 0.8574\n",
            "Epoch 100/100\n",
            "47/47 [==============================] - 0s 3ms/step - loss: 0.1194 - accuracy: 0.8702\n"
          ]
        },
        {
          "output_type": "execute_result",
          "data": {
            "text/plain": [
              "<keras.callbacks.History at 0x7fefdf04a7d0>"
            ]
          },
          "metadata": {},
          "execution_count": 5
        }
      ]
    },
    {
      "cell_type": "markdown",
      "source": [
        "##### 입력층, 은닉층, 출력층"
      ],
      "metadata": {
        "id": "WQIIed0JNtGM"
      }
    },
    {
      "cell_type": "code",
      "source": [
        "\"\"\"Sequential 함수를 통해 퍼셉트론 층을 차곡차곡 추가함, model.add로 추가\"\"\"\n",
        "model.Sequential()\n",
        "\n",
        "\"\"\"\n",
        "Dense층을 구현,\n",
        "17개의 입력값에서 은닉층의 30개의 노드로 보냄\n",
        "활성화 함수 : ReLU\n",
        "\"\"\"\n",
        "model.add(Dense(30, input_dim = 17, activation = 'relu'))\n",
        "\n",
        "\"\"\"\n",
        "마지막 층이므로 출력층\n",
        "출력 값을 하나로 정해서 보여줘야 하므로 출력층의 노드 개수는 1,\n",
        "활성화 함수 : Sigmoid\n",
        "\"\"\"\n",
        "model.add(Dense(1, activation = 'sigmoid'))"
      ],
      "metadata": {
        "id": "_k9lqGv4NwVm"
      },
      "execution_count": null,
      "outputs": []
    },
    {
      "cell_type": "markdown",
      "source": [
        "##### 모델 컴파일"
      ],
      "metadata": {
        "id": "ABKmxXlNO2fU"
      }
    },
    {
      "cell_type": "code",
      "source": [
        "\"\"\"\n",
        "앞서 지정한 모델이 효과적으로 구현될 수 있게 여러가지 환경을 설정해주면서 컴파일\n",
        "오차함수 : MSE(mean_squared_error),\n",
        "모델 수행 결과 : Accuracy\n",
        "metrics는 정확도를 측정하기 위해 사용되는 테스트 샘플을 학습 과정에서 제외시킴으로써 \n",
        "과적합(overfitting : 특정 데이터에서는 잘 작동하나 다른 데이터에서는 잘 작동하지 않는 문제)문제를 방지하는 기능도 있음\n",
        "\"\"\"\n",
        "model.compile(loss = 'mean_squared_error',\n",
        "              optimizer = 'adam',\n",
        "              metrics = ['accuracy'])"
      ],
      "metadata": {
        "id": "tF3_l3_lO4nJ"
      },
      "execution_count": null,
      "outputs": []
    },
    {
      "cell_type": "markdown",
      "source": [
        "##### 교차 엔트로피\n",
        "\n",
        "교차 엔트로피는 주로 분류 문제에서 많이 사용되는데, 특별히 예측값이 참과 거짓 둘 중 하나인 형식일 때는 binary_crossentropy(이항 교차 엔트로피) 사용\n",
        "\n",
        "binary_crossentropy를 적용하려면 컴파일 부분에서 loss에 binary_crossentropy 사용"
      ],
      "metadata": {
        "id": "5vwX1OnVPlWx"
      }
    },
    {
      "cell_type": "markdown",
      "source": [
        "##### 모델 실행하기"
      ],
      "metadata": {
        "id": "Yzw1JB6TQF-m"
      }
    },
    {
      "cell_type": "code",
      "source": [
        "\"\"\"\n",
        "속성 : 각 열(column)\n",
        "샘플 : 각 행(row)\n",
        "클래스 : 구하고자 하는 열(y)\n",
        "\n",
        "epoch : 학습 프로세스가 모든 샘플에 대해 실행되는 것(epoch1 -> 1회 실행)\n",
        "batch_size : 샘플을 한 번에 몇 개씩 처리할지 (batch_size = 10 -> 470/10)\n",
        "\n",
        "batch_size가 너무 크면 학습 속도가 느려지고, 너무 작으면 각 식행 값의 편차가 생겨서 전체 결괏값이 불안정해질 수 있음\n",
        "\"\"\"\n",
        "model.fit(X, Y,\n",
        "          epochs = 100, \n",
        "          batch_size = 10)"
      ],
      "metadata": {
        "id": "cFXX94obPqqE"
      },
      "execution_count": null,
      "outputs": []
    }
  ]
}