{
 "cells": [
  {
   "cell_type": "markdown",
   "metadata": {},
   "source": [
    "##### 선형회귀의 정의\n",
    "\n",
    "독립 변수 : 독립적으로 변할 수 있는 값 x  \n",
    "종속 변수 : 독립 변수에 따라 종속적으로 변하는 값 y  \n",
    "단순 선형 회귀(simple linear regression) : 하나의 x 값으로 y 값을 설명할 수 있을 때  \n",
    "다중 선형 회귀(multiple linear regression) : 여러개의 x 값으로 y 값을 설명할 수 있을 때"
   ]
  },
  {
   "cell_type": "markdown",
   "metadata": {},
   "source": [
    "##### 가장 훌륭한 예측선이란?\n",
    "\n",
    "y = ax + b  \n",
    "선형 회귀와 머신러닝 예측  \n",
    "기존의 데이터를 가지고 최적의 a와 b 값을 찾아내어 아직 답이 나오지 않은 무언가를 대입해 보는 것"
   ]
  },
  {
   "cell_type": "markdown",
   "metadata": {},
   "source": [
    "##### 최소 제곱법\n",
    "\n",
    "- 최소제곱법은 x가 하나일 때 적용 가능, 여러 개의 x가 주어지는 경우 경사하강법 사용\n",
    "\n",
    "기울기 공식  \n",
    "a = ∑((x - mean(x))(y - mean(y))) / ∑(x - mean(x))²  \n",
    "\n",
    "b = mean(y) - (mean(x) * a)  \n",
    "\n",
    "이를 사용하면 오차가 가장 적은 예측 직선 그릴 수 있음 "
   ]
  },
  {
   "cell_type": "markdown",
   "metadata": {},
   "source": [
    "##### 코딩으로 확인하는 최소 제곱"
   ]
  },
  {
   "cell_type": "code",
   "execution_count": 2,
   "metadata": {},
   "outputs": [
    {
     "name": "stdout",
     "output_type": "stream",
     "text": [
      "x의 평균값 : 5.0\n",
      "y의 평균값 : 90.5\n",
      "분모 : 20.0\n",
      "분자 : 46.0\n",
      "기울기 a =  2.3\n",
      "y절편 b = 79.0\n"
     ]
    }
   ],
   "source": [
    "import numpy as np\n",
    "\n",
    "# x, y 값\n",
    "x = [2, 4, 6, 8]\n",
    "y = [81, 93, 91, 97]\n",
    "\n",
    "# x와 y의 평균값\n",
    "mx = np.mean(x)\n",
    "my = np.mean(y)\n",
    "print('x의 평균값 :' , mx)\n",
    "print('y의 평균값 :' , my)\n",
    "\n",
    "# 기울기 공식의 분모\n",
    "divisor = sum([(i - mx)**2 for i in x])        \n",
    "\n",
    "# 기울기 공식의 분자\n",
    "def top(x, mx, y, my):                          \n",
    "    d = 0\n",
    "    for i in range(len(x)):\n",
    "        d += (x[i] - mx) * (y[i] - my)\n",
    "    return d\n",
    "\n",
    "dividend = top(x, mx, y, my)\n",
    "\n",
    "print('분모 :' , divisor)\n",
    "print('분자 :' , dividend)\n",
    "\n",
    "# 기울기와 y 절편 구하기\n",
    "a = dividend / divisor\n",
    "b = my - (mx * a)\n",
    "\n",
    "# 출력으로 확인\n",
    "print('기울기 a = ', a)\n",
    "print('y절편 b =', b)"
   ]
  },
  {
   "cell_type": "markdown",
   "metadata": {},
   "source": [
    "##### 평균 제곱 오차\n",
    "평균 제곱 오차(mean squared error: MSE) : 오차 평가 방법 중 하나"
   ]
  },
  {
   "cell_type": "markdown",
   "metadata": {},
   "source": [
    "##### 잘못 그은 선 바로잡기\n",
    "\n",
    "오차의 합\n",
    "- ∑(예측값 - 실제값)\n",
    "\n",
    "평균 제곱 오차\n",
    "- 1/n * ∑(예측값 - 실제값)"
   ]
  },
  {
   "cell_type": "markdown",
   "metadata": {},
   "source": [
    "##### 코딩으로 확인하는 평균 제곱 오차(MSE)"
   ]
  },
  {
   "cell_type": "code",
   "execution_count": 5,
   "metadata": {},
   "outputs": [
    {
     "name": "stdout",
     "output_type": "stream",
     "text": [
      "공부한 시간 = 2\n",
      "실제 점수 = 81\n",
      "예측 점수 = 82\n",
      "\n",
      "공부한 시간 = 4\n",
      "실제 점수 = 93\n",
      "예측 점수 = 88\n",
      "\n",
      "공부한 시간 = 6\n",
      "실제 점수 = 91\n",
      "예측 점수 = 94\n",
      "\n",
      "공부한 시간 = 8\n",
      "실제 점수 = 97\n",
      "예측 점수 = 100\n",
      "\n",
      "mse 최종값 : 11.0\n"
     ]
    }
   ],
   "source": [
    "import numpy as np\n",
    "\n",
    "# 기울기 a와 절편 b\n",
    "fake_a_b = [3, 76]\n",
    "\n",
    "# x, y의 데이터 값\n",
    "data = [[2, 81], [4, 93], [6, 91], [8, 97]]\n",
    "x = [i[0] for i in data]\n",
    "y = [i[1] for i in data]\n",
    "\n",
    "# y = ax + b에 a와 b 값을 대입하여 결과를 출력하는 함수\n",
    "def predict(x):\n",
    "    return fake_a_b[0] * x + fake_a_b[1]\n",
    "\n",
    "# MSE 함수\n",
    "def mse(y_hat, y):\n",
    "    return ((y_hat - y) ** 2).mean()\n",
    "\n",
    "# MSE 함수를 각 y 값에 대입하여 최종 값을 구하는 함수\n",
    "def mse_val(predict_result, y):\n",
    "    return mse(np.array(predict_result), np.array(y))\n",
    "\n",
    "# 예측 값이 들어갈 빈 리스트\n",
    "predict_result = []\n",
    "\n",
    "# 모든 x 값을 한 번씩 대입하여\n",
    "for i in range(len(x)):\n",
    "    # predict_result 리스트를 완성\n",
    "    predict_result.append(predict(x[i]))\n",
    "    print(f'공부한 시간 = {x[i]}\\n실제 점수 = {y[i]}\\n예측 점수 = {predict(x[i])}\\n')\n",
    "\n",
    "# 최종 mse 출력\n",
    "print('mse 최종값 : ' + str(mse_val(predict_result, y)))"
   ]
  }
 ],
 "metadata": {
  "interpreter": {
   "hash": "0cf90eb564dcf90a219ae509985b5381d51b47d0448d01a29ea34215728d8c14"
  },
  "kernelspec": {
   "display_name": "Python 3.8.8 ('base')",
   "language": "python",
   "name": "python3"
  },
  "language_info": {
   "codemirror_mode": {
    "name": "ipython",
    "version": 3
   },
   "file_extension": ".py",
   "mimetype": "text/x-python",
   "name": "python",
   "nbconvert_exporter": "python",
   "pygments_lexer": "ipython3",
   "version": "3.8.8"
  },
  "orig_nbformat": 4
 },
 "nbformat": 4,
 "nbformat_minor": 2
}
