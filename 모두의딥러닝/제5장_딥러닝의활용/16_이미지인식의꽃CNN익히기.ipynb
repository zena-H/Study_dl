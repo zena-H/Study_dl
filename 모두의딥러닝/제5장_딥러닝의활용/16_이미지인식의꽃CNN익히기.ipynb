{
  "nbformat": 4,
  "nbformat_minor": 0,
  "metadata": {
    "colab": {
      "name": "16_이미지인식의꽃CNN익히기.ipynb",
      "provenance": [],
      "collapsed_sections": [],
      "mount_file_id": "1jtHP2gt5PjagsZDt6azGV28L0IQ8RZqR",
      "authorship_tag": "ABX9TyMgx0Q0qqhg5JkzGYH+dyhE"
    },
    "kernelspec": {
      "name": "python3",
      "display_name": "Python 3"
    },
    "language_info": {
      "name": "python"
    },
    "accelerator": "GPU"
  },
  "cells": [
    {
      "cell_type": "markdown",
      "source": [
        "##### 데이터 전처리"
      ],
      "metadata": {
        "id": "yRJcG-ZgrxdF"
      }
    },
    {
      "cell_type": "code",
      "execution_count": 2,
      "metadata": {
        "colab": {
          "base_uri": "https://localhost:8080/"
        },
        "id": "U9CzKlf3robE",
        "outputId": "5c99a925-06df-4fb7-abee-ddf03f5d41fe"
      },
      "outputs": [
        {
          "output_type": "stream",
          "name": "stdout",
          "text": [
            "Downloading data from https://storage.googleapis.com/tensorflow/tf-keras-datasets/mnist.npz\n",
            "11493376/11490434 [==============================] - 0s 0us/step\n",
            "11501568/11490434 [==============================] - 0s 0us/step\n",
            "학습셋 이미지 수 : 60000개\n",
            "테스트셋 이미지 수 : 10000개\n"
          ]
        }
      ],
      "source": [
        "from tensorflow.keras.datasets import mnist\n",
        "\n",
        "(X_train, Y_class_train), (X_test, Y_class_test) = mnist.load_data()\n",
        "\n",
        "print(f'학습셋 이미지 수 : {X_train.shape[0]}개')\n",
        "print(f'테스트셋 이미지 수 : {X_test.shape[0]}개')"
      ]
    },
    {
      "cell_type": "code",
      "source": [
        "import matplotlib.pyplot as plt\n",
        "\n",
        "plt.imshow(X_train[0], cmap = 'Greys')\n",
        "plt.show()"
      ],
      "metadata": {
        "colab": {
          "base_uri": "https://localhost:8080/",
          "height": 265
        },
        "id": "twHiGVBNsI6u",
        "outputId": "4ac18897-e325-4f78-b44f-26906ffa3973"
      },
      "execution_count": 3,
      "outputs": [
        {
          "output_type": "display_data",
          "data": {
            "image/png": "[encoded data removed]",
            "text/plain": [
              "<Figure size 432x288 with 1 Axes>"
            ]
          },
          "metadata": {
            "needs_background": "light"
          }
        }
      ]
    },
    {
      "cell_type": "code",
      "source": [
        "import sys\n",
        "\n",
        "for x in X_train[0]:\n",
        "    for i in x:\n",
        "        sys.stdout.write(f'{i}\\t')\n",
        "    sys.stdout.write('\\n')"
      ],
      "metadata": {
        "colab": {
          "base_uri": "https://localhost:8080/"
        },
        "id": "ySIFEpMKsTaM",
        "outputId": "0c29050d-2493-4b9d-eb6e-d099040a691f"
      },
      "execution_count": 4,
      "outputs": [
        {
          "output_type": "stream",
          "name": "stdout",
          "text": [
            "0\t0\t0\t0\t0\t0\t0\t0\t0\t0\t0\t0\t0\t0\t0\t0\t0\t0\t0\t0\t0\t0\t0\t0\t0\t0\t0\t0\t\n",
            "0\t0\t0\t0\t0\t0\t0\t0\t0\t0\t0\t0\t0\t0\t0\t0\t0\t0\t0\t0\t0\t0\t0\t0\t0\t0\t0\t0\t\n",
            "0\t0\t0\t0\t0\t0\t0\t0\t0\t0\t0\t0\t0\t0\t0\t0\t0\t0\t0\t0\t0\t0\t0\t0\t0\t0\t0\t0\t\n",
            "0\t0\t0\t0\t0\t0\t0\t0\t0\t0\t0\t0\t0\t0\t0\t0\t0\t0\t0\t0\t0\t0\t0\t0\t0\t0\t0\t0\t\n",
            "0\t0\t0\t0\t0\t0\t0\t0\t0\t0\t0\t0\t0\t0\t0\t0\t0\t0\t0\t0\t0\t0\t0\t0\t0\t0\t0\t0\t\n",
            "0\t0\t0\t0\t0\t0\t0\t0\t0\t0\t0\t0\t3\t18\t18\t18\t126\t136\t175\t26\t166\t255\t247\t127\t0\t0\t0\t0\t\n",
            "0\t0\t0\t0\t0\t0\t0\t0\t30\t36\t94\t154\t170\t253\t253\t253\t253\t253\t225\t172\t253\t242\t195\t64\t0\t0\t0\t0\t\n",
            "0\t0\t0\t0\t0\t0\t0\t49\t238\t253\t253\t253\t253\t253\t253\t253\t253\t251\t93\t82\t82\t56\t39\t0\t0\t0\t0\t0\t\n",
            "0\t0\t0\t0\t0\t0\t0\t18\t219\t253\t253\t253\t253\t253\t198\t182\t247\t241\t0\t0\t0\t0\t0\t0\t0\t0\t0\t0\t\n",
            "0\t0\t0\t0\t0\t0\t0\t0\t80\t156\t107\t253\t253\t205\t11\t0\t43\t154\t0\t0\t0\t0\t0\t0\t0\t0\t0\t0\t\n",
            "0\t0\t0\t0\t0\t0\t0\t0\t0\t14\t1\t154\t253\t90\t0\t0\t0\t0\t0\t0\t0\t0\t0\t0\t0\t0\t0\t0\t\n",
            "0\t0\t0\t0\t0\t0\t0\t0\t0\t0\t0\t139\t253\t190\t2\t0\t0\t0\t0\t0\t0\t0\t0\t0\t0\t0\t0\t0\t\n",
            "0\t0\t0\t0\t0\t0\t0\t0\t0\t0\t0\t11\t190\t253\t70\t0\t0\t0\t0\t0\t0\t0\t0\t0\t0\t0\t0\t0\t\n",
            "0\t0\t0\t0\t0\t0\t0\t0\t0\t0\t0\t0\t35\t241\t225\t160\t108\t1\t0\t0\t0\t0\t0\t0\t0\t0\t0\t0\t\n",
            "0\t0\t0\t0\t0\t0\t0\t0\t0\t0\t0\t0\t0\t81\t240\t253\t253\t119\t25\t0\t0\t0\t0\t0\t0\t0\t0\t0\t\n",
            "0\t0\t0\t0\t0\t0\t0\t0\t0\t0\t0\t0\t0\t0\t45\t186\t253\t253\t150\t27\t0\t0\t0\t0\t0\t0\t0\t0\t\n",
            "0\t0\t0\t0\t0\t0\t0\t0\t0\t0\t0\t0\t0\t0\t0\t16\t93\t252\t253\t187\t0\t0\t0\t0\t0\t0\t0\t0\t\n",
            "0\t0\t0\t0\t0\t0\t0\t0\t0\t0\t0\t0\t0\t0\t0\t0\t0\t249\t253\t249\t64\t0\t0\t0\t0\t0\t0\t0\t\n",
            "0\t0\t0\t0\t0\t0\t0\t0\t0\t0\t0\t0\t0\t0\t46\t130\t183\t253\t253\t207\t2\t0\t0\t0\t0\t0\t0\t0\t\n",
            "0\t0\t0\t0\t0\t0\t0\t0\t0\t0\t0\t0\t39\t148\t229\t253\t253\t253\t250\t182\t0\t0\t0\t0\t0\t0\t0\t0\t\n",
            "0\t0\t0\t0\t0\t0\t0\t0\t0\t0\t24\t114\t221\t253\t253\t253\t253\t201\t78\t0\t0\t0\t0\t0\t0\t0\t0\t0\t\n",
            "0\t0\t0\t0\t0\t0\t0\t0\t23\t66\t213\t253\t253\t253\t253\t198\t81\t2\t0\t0\t0\t0\t0\t0\t0\t0\t0\t0\t\n",
            "0\t0\t0\t0\t0\t0\t18\t171\t219\t253\t253\t253\t253\t195\t80\t9\t0\t0\t0\t0\t0\t0\t0\t0\t0\t0\t0\t0\t\n",
            "0\t0\t0\t0\t55\t172\t226\t253\t253\t253\t253\t244\t133\t11\t0\t0\t0\t0\t0\t0\t0\t0\t0\t0\t0\t0\t0\t0\t\n",
            "0\t0\t0\t0\t136\t253\t253\t253\t212\t135\t132\t16\t0\t0\t0\t0\t0\t0\t0\t0\t0\t0\t0\t0\t0\t0\t0\t0\t\n",
            "0\t0\t0\t0\t0\t0\t0\t0\t0\t0\t0\t0\t0\t0\t0\t0\t0\t0\t0\t0\t0\t0\t0\t0\t0\t0\t0\t0\t\n",
            "0\t0\t0\t0\t0\t0\t0\t0\t0\t0\t0\t0\t0\t0\t0\t0\t0\t0\t0\t0\t0\t0\t0\t0\t0\t0\t0\t0\t\n",
            "0\t0\t0\t0\t0\t0\t0\t0\t0\t0\t0\t0\t0\t0\t0\t0\t0\t0\t0\t0\t0\t0\t0\t0\t0\t0\t0\t0\t\n"
          ]
        }
      ]
    },
    {
      "cell_type": "code",
      "source": [
        "# 28X28의 2차원 배열을 184개의 1차원 배열로 바꾸어 주기 위함\n",
        "X_train = X_train.reshape(X_train.shape[0], 784)\n",
        "\n",
        "X_train = X_train.astype('float64')\n",
        "X_train = X_train / 255.\n",
        "\n",
        "X_test = X_test.reshape(X_test.shape[0], 784).astype('float64') / 255.\n",
        "\n",
        "print(f'class : {Y_class_train[0]}')"
      ],
      "metadata": {
        "colab": {
          "base_uri": "https://localhost:8080/"
        },
        "id": "kMdxV5gzsr2I",
        "outputId": "1c91ba19-ffbf-47df-b5a9-f6e4a83fa1f3"
      },
      "execution_count": 5,
      "outputs": [
        {
          "output_type": "stream",
          "name": "stdout",
          "text": [
            "class : 5\n"
          ]
        }
      ]
    },
    {
      "cell_type": "code",
      "source": [
        "from tensorflow.keras.utils import to_categorical\n",
        "\n",
        "Y_train = to_categorical(Y_class_train, 10)\n",
        "Y_test = to_categorical(Y_class_test, 10)\n",
        "\n",
        "print(Y_train[0])"
      ],
      "metadata": {
        "colab": {
          "base_uri": "https://localhost:8080/"
        },
        "id": "wpMV6qGMtmcC",
        "outputId": "c76cb8ae-5618-4cb3-fbe7-3a80a4feac66"
      },
      "execution_count": 6,
      "outputs": [
        {
          "output_type": "stream",
          "name": "stdout",
          "text": [
            "[0. 0. 0. 0. 0. 1. 0. 0. 0. 0.]\n"
          ]
        }
      ]
    },
    {
      "cell_type": "markdown",
      "source": [
        "##### 딥러닝 기본 프레임 만들기"
      ],
      "metadata": {
        "id": "Mdrkc5bdt5pk"
      }
    },
    {
      "cell_type": "code",
      "source": [
        "from tensorflow.keras.models import Sequential\n",
        "from tensorflow.keras.layers import Dense\n",
        "\n",
        "model = Sequential()\n",
        "model.add(Dense(512, input_dim = 784, activation = 'relu'))\n",
        "model.add(Dense(10, activation = 'softmax'))\n",
        "\n",
        "model.compile(loss = 'categorical_crossentropy',\n",
        "              optimizer = 'adam',\n",
        "              metrics = ['accuracy'])"
      ],
      "metadata": {
        "id": "tiRwXGk1t8S8"
      },
      "execution_count": 7,
      "outputs": []
    },
    {
      "cell_type": "code",
      "source": [
        "import os\n",
        "from tensorflow.keras.callbacks import ModelCheckpoint, EarlyStopping\n",
        "\n",
        "MODEL_DIR = 'model'\n",
        "if not os.path.exists(MODEL_DIR):\n",
        "    os.mkdir(MODEL_DIR)\n",
        "\n",
        "model_path = 'model/{epoch:02d}-{val_loss:.4f}.hdf5'\n",
        "checkpointer = ModelCheckpoint(filepath = model_path,\n",
        "                               monitor = 'val_loss',\n",
        "                               verbose = 1,\n",
        "                               save_best_only = True)\n",
        "\n",
        "early_stopping_callback = EarlyStopping(monitor = 'val_loss',\n",
        "                                       patience = 10)"
      ],
      "metadata": {
        "id": "zaitaaTpuXAE"
      },
      "execution_count": 8,
      "outputs": []
    },
    {
      "cell_type": "code",
      "source": [
        "history = model.fit(X_train, Y_train,\n",
        "                   validation_data = (X_test, Y_test),\n",
        "                   epochs = 30,\n",
        "                   batch_size = 200,\n",
        "                   verbose = 0,\n",
        "                   callbacks = [early_stopping_callback ,checkpointer])\n",
        "\n",
        "print(f'\\nTest Accuracy : {model.evaluate(X_test, Y_test)[1] : .4f}')"
      ],
      "metadata": {
        "colab": {
          "base_uri": "https://localhost:8080/"
        },
        "id": "xlFchRnfvLtl",
        "outputId": "3869b5b1-6c4b-4866-f559-a7f2847bdb26"
      },
      "execution_count": 9,
      "outputs": [
        {
          "output_type": "stream",
          "name": "stdout",
          "text": [
            "\n",
            "Epoch 00001: val_loss improved from inf to 0.14843, saving model to model/01-0.1484.hdf5\n",
            "\n",
            "Epoch 00002: val_loss improved from 0.14843 to 0.10383, saving model to model/02-0.1038.hdf5\n",
            "\n",
            "Epoch 00003: val_loss improved from 0.10383 to 0.08239, saving model to model/03-0.0824.hdf5\n",
            "\n",
            "Epoch 00004: val_loss improved from 0.08239 to 0.07577, saving model to model/04-0.0758.hdf5\n",
            "\n",
            "Epoch 00005: val_loss improved from 0.07577 to 0.06866, saving model to model/05-0.0687.hdf5\n",
            "\n",
            "Epoch 00006: val_loss did not improve from 0.06866\n",
            "\n",
            "Epoch 00007: val_loss improved from 0.06866 to 0.06713, saving model to model/07-0.0671.hdf5\n",
            "\n",
            "Epoch 00008: val_loss improved from 0.06713 to 0.06241, saving model to model/08-0.0624.hdf5\n",
            "\n",
            "Epoch 00009: val_loss did not improve from 0.06241\n",
            "\n",
            "Epoch 00010: val_loss did not improve from 0.06241\n",
            "\n",
            "Epoch 00011: val_loss did not improve from 0.06241\n",
            "\n",
            "Epoch 00012: val_loss improved from 0.06241 to 0.06219, saving model to model/12-0.0622.hdf5\n",
            "\n",
            "Epoch 00013: val_loss did not improve from 0.06219\n",
            "\n",
            "Epoch 00014: val_loss did not improve from 0.06219\n",
            "\n",
            "Epoch 00015: val_loss improved from 0.06219 to 0.06156, saving model to model/15-0.0616.hdf5\n",
            "\n",
            "Epoch 00016: val_loss did not improve from 0.06156\n",
            "\n",
            "Epoch 00017: val_loss did not improve from 0.06156\n",
            "\n",
            "Epoch 00018: val_loss did not improve from 0.06156\n",
            "\n",
            "Epoch 00019: val_loss did not improve from 0.06156\n",
            "\n",
            "Epoch 00020: val_loss did not improve from 0.06156\n",
            "\n",
            "Epoch 00021: val_loss did not improve from 0.06156\n",
            "\n",
            "Epoch 00022: val_loss did not improve from 0.06156\n",
            "\n",
            "Epoch 00023: val_loss did not improve from 0.06156\n",
            "\n",
            "Epoch 00024: val_loss did not improve from 0.06156\n",
            "\n",
            "Epoch 00025: val_loss did not improve from 0.06156\n",
            "313/313 [==============================] - 1s 4ms/step - loss: 0.0687 - accuracy: 0.9835\n",
            "\n",
            "Test Accuracy :  0.9835\n"
          ]
        }
      ]
    },
    {
      "cell_type": "code",
      "source": [
        "import matplotlib.pyplot as plt\n",
        "import numpy as np\n",
        "\n",
        "y_vloss = history.history['val_loss']\n",
        "\n",
        "# 학습셋의 오차\n",
        "y_loss = history.history['loss']\n",
        "\n",
        "# 그래프로 표현\n",
        "x_len = np.arange(len(y_loss))\n",
        "plt.plot(x_len, y_vloss, marker = '.', c = 'red', label = 'Testset_loss')\n",
        "plt.plot(x_len, y_loss, marker = '.', c = 'blue', label = 'Trainset_loss')\n",
        "\n",
        "# 그래프에 그리드를 주고 레이블을 표시\n",
        "plt.legend(loc = 'upper right')\n",
        "plt.grid()\n",
        "plt.xlabel('epoch')\n",
        "plt.ylabel('loss')\n",
        "plt.show()"
      ],
      "metadata": {
        "colab": {
          "base_uri": "https://localhost:8080/",
          "height": 278
        },
        "id": "KHTenJnKvw6w",
        "outputId": "8c029fa7-9736-4bc3-a157-b831102fbbb9"
      },
      "execution_count": 10,
      "outputs": [
        {
          "output_type": "display_data",
          "data": {
            "image/png": "[encoded data removed]",
            "text/plain": [
              "<Figure size 432x288 with 1 Axes>"
            ]
          },
          "metadata": {
            "needs_background": "light"
          }
        }
      ]
    },
    {
      "cell_type": "markdown",
      "source": [
        "##### 더 깊은 딥러닝\n",
        "CNN(Convolution Neural Network)"
      ],
      "metadata": {
        "id": "b167SPMYysOE"
      }
    },
    {
      "cell_type": "markdown",
      "source": [
        "##### 컨볼루션 신경망(CNN)\n",
        "CNN(n).png 참고  \n",
        "- model.add(Conv2D(32, kernel_size = (3, 3), input_shape = (28, 28, 1), activation = 'relu)"
      ],
      "metadata": {
        "id": "mEx9sFa7y2oA"
      }
    },
    {
      "cell_type": "markdown",
      "source": [
        "##### 맥스풀링\n",
        "\n",
        "풀링 , 서브 샘플링 : 결과가 크고 복잡하면 다시 한번 축소하는 과정\n",
        "\n",
        "- 맥스 풀링(max pooling) : 정해진 구역 안에서 최댓값을 뽑아냄\n",
        "- 평균 풀링(average pooling) : 정해진 구역 안에서 평균값을 뽑아냄\n",
        "\n",
        "maxpooling.png 참고\n",
        "- model.add(MaxPooling2D(pool_size = 2))\n",
        "\n",
        "\n",
        "- 드롭아웃 : 과적합을 방지하기 위해 은닉층에 배치된 노드 중 일부를 임의로 꺼주는 것\n",
        "\n",
        "dropout.png 참고\n",
        "- model.add(Dropout(0.25))\n",
        "\n",
        "플래튼(Flatten) : 활성화 함수를 사용하기 위해 다차원 배열을 1차원 배열로 바꿔줌\n",
        "\n",
        "- model.add(Flatten())"
      ],
      "metadata": {
        "id": "VM7X-0Kh184k"
      }
    },
    {
      "cell_type": "markdown",
      "source": [
        "##### 컨볼루션 신경망 실행하기"
      ],
      "metadata": {
        "id": "1eyMhqfT3O3Q"
      }
    },
    {
      "cell_type": "code",
      "source": [
        "from tensorflow.keras.datasets import mnist\n",
        "from tensorflow.keras.utils import to_categorical\n",
        "from tensorflow.keras.models import Sequential\n",
        "from tensorflow.keras.layers import Dense, Dropout, Flatten, Conv2D, MaxPooling2D\n",
        "from tensorflow.keras.callbacks import ModelCheckpoint, EarlyStopping\n",
        "\n",
        "import matplotlib.pyplot as plt\n",
        "import numpy as np\n",
        "import os\n",
        "import tensorflow as tf\n",
        "\n",
        "# seed 값 설정\n",
        "seed  = 0\n",
        "np.random.seed(seed)\n",
        "tf.random.set_seed(seed)\n",
        "\n",
        "# 데이터 불러오기\n",
        "(X_train, y_train), (X_test, y_test) = mnist.load_data()\n",
        "\n",
        "X_train = X_train.reshape(X_train.shape[0], 28, 28, 1).astype(float) / 255.\n",
        "X_test = X_test.reshape(X_test.shape[0], 28, 28, 1).astype(float) / 255.\n",
        "\n",
        "y_train = to_categorical(y_train)\n",
        "y_test = to_categorical(y_test)\n",
        "\n",
        "# 컨볼루션 신경망 설정\n",
        "model = Sequential()\n",
        "model.add(Conv2D(32, kernel_size = (3, 3), input_shape = (28, 28, 1), activation = 'relu'))\n",
        "model.add(Conv2D(64 , (3, 3), activation = 'relu'))\n",
        "model.add(MaxPooling2D(pool_size = 2))\n",
        "model.add(Dropout(0.25))\n",
        "model.add(Flatten())\n",
        "model.add(Dense(128, activation = 'relu'))\n",
        "model.add(Dropout(0.5))\n",
        "model.add(Dense(10, activation = 'softmax'))\n",
        "\n",
        "model.compile(loss = 'categorical_crossentropy',\n",
        "              optimizer = 'adam',\n",
        "              metrics = ['accuracy'])\n",
        "\n",
        "# 모델 최적화 설정\n",
        "MODEL_DIR = 'model'\n",
        "if not os.path.exists(MODEL_DIR):\n",
        "    os.mkdir(MODEL_DIR)\n",
        "\n",
        "modelpath = 'model/{epoch:02d}-{val_loss:.4f}.hdf5'\n",
        "\n",
        "checkpointer = ModelCheckpoint(filepath = modelpath, \n",
        "                               monitor = 'val_loss',\n",
        "                               verbose = 1,\n",
        "                               save_best_only = True)\n",
        "\n",
        "early_stoppin_callback = EarlyStopping(monitor = 'val_loss',\n",
        "                                       patience = 10)\n",
        "\n",
        "# 모델의 실행\n",
        "history = model.fit(X_train, y_train, \n",
        "                    validation_data = (X_test, y_test),\n",
        "                    epochs = 30,\n",
        "                    batch_size = 200,\n",
        "                    verbose = 0,\n",
        "                    callbacks = [early_stopping_callback, checkpointer])\n",
        "\n",
        "# 테스트 정확도 출력\n",
        "print(f'\\nTest Accuracy : {model.evaluate(X_test, y_test)[1] :.4f}')\n",
        "\n",
        "# 테스트셋의 오차\n",
        "y_vloss = history.history['val_loss']\n",
        "\n",
        "# 학습셋의 오차\n",
        "y_loss = history.history['loss']\n",
        "\n",
        "# 그래프로 표현\n",
        "x_len = np.arange(len(y_loss))\n",
        "\n",
        "plt.plot(x_len, y_vloss, marker = '.', c = 'red', label = 'Testset_loss')\n",
        "plt.plot(x_len, y_loss, marker = '.', c = 'blue', label = 'Trainset_loss')\n",
        "\n",
        "# 그래프에 그리드를 주고 레이블을 표시\n",
        "plt.legend(loc = 'upper right')\n",
        "plt.grid()\n",
        "plt.xlabel('epoch')\n",
        "plt.ylabel('loss')\n",
        "plt.show()"
      ],
      "metadata": {
        "colab": {
          "base_uri": "https://localhost:8080/",
          "height": 1000
        },
        "id": "HKU0x_DQwjO6",
        "outputId": "522289d3-334f-4232-b8b7-d6edb7d7345d"
      },
      "execution_count": 15,
      "outputs": [
        {
          "output_type": "stream",
          "name": "stdout",
          "text": [
            "\n",
            "Epoch 00001: val_loss improved from inf to 0.05644, saving model to model/01-0.0564.hdf5\n",
            "\n",
            "Epoch 00002: val_loss improved from 0.05644 to 0.04241, saving model to model/02-0.0424.hdf5\n",
            "\n",
            "Epoch 00003: val_loss improved from 0.04241 to 0.03643, saving model to model/03-0.0364.hdf5\n",
            "\n",
            "Epoch 00004: val_loss improved from 0.03643 to 0.03128, saving model to model/04-0.0313.hdf5\n",
            "\n",
            "Epoch 00005: val_loss improved from 0.03128 to 0.02878, saving model to model/05-0.0288.hdf5\n",
            "\n",
            "Epoch 00006: val_loss improved from 0.02878 to 0.02720, saving model to model/06-0.0272.hdf5\n",
            "\n",
            "Epoch 00007: val_loss improved from 0.02720 to 0.02702, saving model to model/07-0.0270.hdf5\n",
            "\n",
            "Epoch 00008: val_loss did not improve from 0.02702\n",
            "\n",
            "Epoch 00009: val_loss did not improve from 0.02702\n",
            "\n",
            "Epoch 00010: val_loss improved from 0.02702 to 0.02640, saving model to model/10-0.0264.hdf5\n",
            "\n",
            "Epoch 00011: val_loss did not improve from 0.02640\n",
            "\n",
            "Epoch 00012: val_loss improved from 0.02640 to 0.02630, saving model to model/12-0.0263.hdf5\n",
            "\n",
            "Epoch 00013: val_loss did not improve from 0.02630\n",
            "\n",
            "Epoch 00014: val_loss did not improve from 0.02630\n",
            "\n",
            "Epoch 00015: val_loss did not improve from 0.02630\n",
            "\n",
            "Epoch 00016: val_loss did not improve from 0.02630\n",
            "\n",
            "Epoch 00017: val_loss did not improve from 0.02630\n",
            "\n",
            "Epoch 00018: val_loss did not improve from 0.02630\n",
            "\n",
            "Epoch 00019: val_loss did not improve from 0.02630\n",
            "\n",
            "Epoch 00020: val_loss did not improve from 0.02630\n",
            "\n",
            "Epoch 00021: val_loss did not improve from 0.02630\n",
            "\n",
            "Epoch 00022: val_loss did not improve from 0.02630\n",
            "313/313 [==============================] - 3s 7ms/step - loss: 0.0307 - accuracy: 0.9921\n",
            "\n",
            "Test Accuracy : 0.9921\n"
          ]
        },
        {
          "output_type": "display_data",
          "data": {
            "image/png": "[encoded data removed]",
            "text/plain": [
              "<Figure size 432x288 with 1 Axes>"
            ]
          },
          "metadata": {
            "needs_background": "light"
          }
        }
      ]
    }
  ]
}