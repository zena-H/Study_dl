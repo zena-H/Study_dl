{
 "cells": [
  {
   "cell_type": "markdown",
   "metadata": {},
   "source": [
    "##### 다층 퍼셉트론의 설계\n",
    "\n",
    "은닉층으로 퍼셉트론이 각각 자신의 가중치(w)와 바이어스(b) 값을 보내고, 이 은닉층에서 모인 값이 한 번 더 시그모이드함수(기호로 σ라고 표시)를 이용해 최종 값으로 결과를 보냄\n",
    "- 노드 : 은닉층에 모이는 중간 정거장(아래 식에서는 n₁, n₂로 표현)\n",
    "\n",
    "- n₁ = σ(x₁w₁₁ + x₂w₂₁ + b₁)\n",
    "- n₂ = σ(x₁w₁₂ + x₂w₂₂ + b₂)\n",
    "\n",
    "두 식의 결과값이 출력층으로 보내져 시그모이드 함수를 통해 y값이 정해짐\n",
    "- y = σ(n₁w₃₁ + n₂w₃₂ + b₃)\n",
    "\n",
    "##### XOR 문제의 해결"
   ]
  },
  {
   "cell_type": "markdown",
   "metadata": {},
   "source": [
    "##### 코딩으로 XOR 문제 해결하기\n",
    "\n",
    "(인공) 신경망"
   ]
  },
  {
   "cell_type": "code",
   "execution_count": 5,
   "metadata": {},
   "outputs": [
    {
     "name": "stdout",
     "output_type": "stream",
     "text": [
      "입력 값 : (0, 0), 출력 값 : 0\n",
      "입력 값 : (1, 0), 출력 값 : 1\n",
      "입력 값 : (0, 1), 출력 값 : 1\n",
      "입력 값 : (1, 1), 출력 값 : 0\n"
     ]
    }
   ],
   "source": [
    "import numpy as np\n",
    "\n",
    "# 가중치와 바이어스\n",
    "w11 = np.array([-2, -2])\n",
    "w12 = np.array([2, 2])\n",
    "w2 = np.array([1, 1])\n",
    "b1 = 3\n",
    "b2 = -1\n",
    "b3 = -1\n",
    "\n",
    "# 퍼셉트론\n",
    "def MLP(x, w, b):\n",
    "    y = np.sum(w * x) + b\n",
    "    if y <= 0:\n",
    "        return 0\n",
    "    else:\n",
    "        return 1\n",
    "\n",
    "# NAND 게이트\n",
    "def NAND(x1, x2):\n",
    "    return MLP(np.array([x1, x2]), w11, b1)\n",
    "\n",
    "# OR 게이트\n",
    "def OR(x1, x2):\n",
    "    return MLP(np.array([x1, x2]), w12, b2)\n",
    "\n",
    "# AND 게이트\n",
    "def AND(x1, x2):\n",
    "    return MLP(np.array([x1, x2]), w2, b3)\n",
    "\n",
    "# XOR 게이트\n",
    "def XOR(x1, x2):\n",
    "    return AND(NAND(x1, x2), OR(x1, x2))\n",
    "\n",
    "# x1, x2 값을 번갈아 대입하며 최종값 출력\n",
    "if __name__ == \"__main__\":\n",
    "    for x in [(0, 0), (1, 0), (0, 1), (1, 1)]:\n",
    "        y = XOR(x[0], x[1])\n",
    "        print('입력 값 : ' + str(x) + ', 출력 값 : ' + str(y))"
   ]
  }
 ],
 "metadata": {
  "interpreter": {
   "hash": "0cf90eb564dcf90a219ae509985b5381d51b47d0448d01a29ea34215728d8c14"
  },
  "kernelspec": {
   "display_name": "Python 3.8.8 ('base')",
   "language": "python",
   "name": "python3"
  },
  "language_info": {
   "codemirror_mode": {
    "name": "ipython",
    "version": 3
   },
   "file_extension": ".py",
   "mimetype": "text/x-python",
   "name": "python",
   "nbconvert_exporter": "python",
   "pygments_lexer": "ipython3",
   "version": "3.8.8"
  },
  "orig_nbformat": 4
 },
 "nbformat": 4,
 "nbformat_minor": 2
}
