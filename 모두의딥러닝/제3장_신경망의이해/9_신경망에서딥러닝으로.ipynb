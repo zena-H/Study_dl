{
 "cells": [
  {
   "cell_type": "markdown",
   "metadata": {},
   "source": [
    "##### 기울기 소실 문제와 활성화 함수\n",
    "\n",
    "오차 역전파의 문제 \n",
    "- 출력층으로부터 하나씩 되돌아가며 각 층의 가중치를 수정하는 방법이지만 층이 늘어나면서 역전파를 통해 전달되는 기울기의 값이 점점 작아져 기울기 소실(vanishing gradient) 문제 발생\n",
    "\n",
    "- 이를 해결하고자 활성화 함수를 시그모이드가 아닌 여러 함수로 대체하기 시작"
   ]
  }
 ],
 "metadata": {
  "language_info": {
   "name": "python"
  },
  "orig_nbformat": 4
 },
 "nbformat": 4,
 "nbformat_minor": 2
}
