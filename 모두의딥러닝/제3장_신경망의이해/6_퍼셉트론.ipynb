{
 "cells": [
  {
   "cell_type": "markdown",
   "metadata": {},
   "source": [
    "##### 가중치, 가중합, 바이어스, 활성화 함수\n",
    "\n",
    "y = ax + b(a는 기울기, b는 절편)  \n",
    "-> y = wx + b(w는 가중치, b는 바이어스)\n",
    "\n",
    "가중합 : 가중치(w)와 입력값(x)를 곱한 뒤 바이어스(b)를 더한 값\n",
    "\n",
    "활성화 함수 : 가중합의 결과를 놓고 0과 1을 판단하는 함수"
   ]
  },
  {
   "cell_type": "markdown",
   "metadata": {},
   "source": [
    "##### XOR 문제\n",
    "\n",
    "XOR(exclusion OR)\n",
    "게이트(gate) : 두 가지의 디지털 값(0과 1)을 입력해 하나의 값을 출력하는 회로"
   ]
  }
 ],
 "metadata": {
  "interpreter": {
   "hash": "0cf90eb564dcf90a219ae509985b5381d51b47d0448d01a29ea34215728d8c14"
  },
  "kernelspec": {
   "display_name": "Python 3.8.8 ('base')",
   "language": "python",
   "name": "python3"
  },
  "language_info": {
   "name": "python",
   "version": "3.8.8"
  },
  "orig_nbformat": 4
 },
 "nbformat": 4,
 "nbformat_minor": 2
}
