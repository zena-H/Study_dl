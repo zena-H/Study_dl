{
 "cells": [
  {
   "cell_type": "markdown",
   "metadata": {},
   "source": [
    "###### 기초수학.jpg 참고"
   ]
  },
  {
   "cell_type": "markdown",
   "metadata": {},
   "source": [
    "##### 일차함수, 기울기와 y절편\n",
    "함수 : 두 집합 사이의 관계를 설명하는 수학 개념  \n",
    "일차 함수 : y가 x에 관한 일차식으로 표현된 경우  \n",
    "- y = ax + b(a ≠ 0)  \n",
    "a : 기울기  \n",
    "b : 절편"
   ]
  },
  {
   "cell_type": "markdown",
   "metadata": {},
   "source": [
    "##### 이차 함수와 최솟값\n",
    "이차 함수 : y가 x에 관한 이차식으로 표현되는 경우  \n",
    "- y = ax²(a ≠ 0)"
   ]
  },
  {
   "cell_type": "markdown",
   "metadata": {},
   "source": [
    "##### 미분, 순간 변화율과 기울기\n",
    "\n",
    "미분을 통해 최솟값을 구함  \n",
    "순간 변화율 :  a가 아주 미세하게 움직일때, 방향만 드러내는 정도의 순간적인 변화  \n",
    "기울기 : 순간 변화율의 방향을 따라 직선을 그린 것  \n",
    "미분 계수 : 기울기를 숫자로 나타낸 것  \n"
   ]
  },
  {
   "cell_type": "markdown",
   "metadata": {},
   "source": [
    "##### 편미분\n",
    "f(x, y) = x² + yx + a(a는 상수)  \n",
    "이러한 식에서 x에 관해서만 미분을 하고 싶다면 함수 f를 'x에 관해 편미분하라'라고 함\n",
    "- ∂f/ ∂x"
   ]
  },
  {
   "cell_type": "markdown",
   "metadata": {},
   "source": [
    "##### 지수와 지수 함수\n",
    "xⁿ의 형태를 지수라고 하며  \n",
    "x => 밑, ⁿ => 지수 라고 부름  \n",
    "지수 함수 : 변수 x가 지수 자리에 있는 경우\n",
    "- y = a²(a ≠ 0, a > 0)  "
   ]
  },
  {
   "cell_type": "markdown",
   "metadata": {},
   "source": [
    "##### 시그모이드 함수\n",
    "시그모이드 함수 : 자연 상수 e가 지수 함수에 포함되어 분모에 들어간 형태\n",
    "- f(n) = 1 / 1 + e-ⁿ  \n",
    "n이 큰 값을 가지면 f(n)는 1에 가까워지고, n이 작은 값을 가지면 0에 가까워짐  \n",
    "이 함수는 0 또는 1, 두 개의 값 중 하나를 고를 때 유용하게 쓰임"
   ]
  },
  {
   "cell_type": "markdown",
   "metadata": {},
   "source": [
    "##### 로그와 로그 함수\n",
    "2³ = 8  =>  \n",
    "- log₂8 = 3  \n",
    "지수함수와는 역함수 관계"
   ]
  }
 ],
 "metadata": {
  "interpreter": {
   "hash": "0cf90eb564dcf90a219ae509985b5381d51b47d0448d01a29ea34215728d8c14"
  },
  "kernelspec": {
   "display_name": "Python 3.8.8 64-bit ('base': conda)",
   "language": "python",
   "name": "python3"
  },
  "language_info": {
   "name": "python",
   "version": "3.8.8"
  },
  "orig_nbformat": 4
 },
 "nbformat": 4,
 "nbformat_minor": 2
}
